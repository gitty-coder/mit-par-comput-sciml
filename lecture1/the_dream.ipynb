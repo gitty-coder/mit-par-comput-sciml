{
 "cells": [
  {
   "cell_type": "code",
   "execution_count": 1,
   "metadata": {},
   "outputs": [],
   "source": [
    "using Distributed, LinearAlgebra\n",
    "#rmprocs(workers())\n"
   ]
  },
  {
   "cell_type": "code",
   "execution_count": 2,
   "metadata": {},
   "outputs": [
    {
     "data": {
      "text/plain": [
       "1"
      ]
     },
     "execution_count": 2,
     "metadata": {},
     "output_type": "execute_result"
    }
   ],
   "source": [
    "nprocs()"
   ]
  },
  {
   "cell_type": "code",
   "execution_count": 3,
   "metadata": {},
   "outputs": [
    {
     "data": {
      "text/plain": [
       "2"
      ]
     },
     "execution_count": 3,
     "metadata": {},
     "output_type": "execute_result"
    }
   ],
   "source": [
    "1+1"
   ]
  },
  {
   "cell_type": "markdown",
   "metadata": {},
   "source": [
    "# A Brief Feel for the Dream"
   ]
  },
  {
   "cell_type": "code",
   "execution_count": 4,
   "metadata": {},
   "outputs": [],
   "source": [
    "# import Pkg; Pkg.add(\"CUDA\")"
   ]
  },
  {
   "cell_type": "code",
   "execution_count": 5,
   "metadata": {},
   "outputs": [],
   "source": [
    "using Distributed\n",
    "\n",
    "if nprocs() == 1\n",
    "  addprocs(4) \n",
    "end\n",
    "\n",
    "# @everywhere begin\n",
    "#     import Pkg\n",
    "#     Pkg.activate($(Base.current_project()))\n",
    "#   end\n",
    "\n",
    "@everywhere using LinearAlgebra, DistributedArrays, CUDA\n",
    "@everywhere import CUDA: @time\n",
    "@everywhere CUDA.allowscalar(true)\n"
   ]
  },
  {
   "cell_type": "markdown",
   "metadata": {},
   "source": [
    "## So you like linear algebra? <br>\n",
    "<table style=\"width:100%\">\n",
    "  <tr>\n",
    "    <th><img src=\"http://freecomputerbooks.com/covers/LAPACK-Users-Guide-Third-Edition.jpg\" width=\"200\"></th>\n",
    "    <th><img src=\"http://www.netlib.org/scalapack/slug/slug_cover.gif\"  width=\"200\" style=\"background-color:white\"></th>\n",
    "      <th><img src=\"https://images-na.ssl-images-amazon.com/images/I/41uT31fSxBL._SX352_BO1,204,203,200_.jpg\" width=\"200\"></th>\n",
    "    \n",
    "  </tr>\n",
    "    \n",
    "\n"
   ]
  },
  {
   "cell_type": "markdown",
   "metadata": {},
   "source": [
    "## but you are innovating beyond the traditional libraries?"
   ]
  },
  {
   "cell_type": "markdown",
   "metadata": {},
   "source": [
    "##  For demonstration let's make a matrix where you know more than the libraries know."
   ]
  },
  {
   "cell_type": "markdown",
   "metadata": {},
   "source": [
    "Let's create a custom  matrix structure that depends on n parameters, not $n^2$: <br> <br>\n",
    "Diagonal(v) + v*v'\n",
    "<br>\n",
    "\n",
    "For example (n=3):\n",
    "$$ \\begin{pmatrix}\n",
    "v_1 & & \\\\\n",
    "& v_2 & \\\\\n",
    "& & v_3\n",
    "\\end{pmatrix} + \n",
    "\\begin{pmatrix}\n",
    "v_1^2 & v_1 v_2 & v_1 v_3 \\\\\n",
    "v_2 v_1 & v_2^2 & v_2 v_3 \\\\\n",
    "v_3 v_1 & v_3 v_2 & v_3^2\n",
    "\\end{pmatrix} .\n",
    "$$\n"
   ]
  },
  {
   "cell_type": "markdown",
   "metadata": {},
   "source": [
    "# Build a Custom Type"
   ]
  },
  {
   "cell_type": "code",
   "execution_count": 6,
   "metadata": {},
   "outputs": [],
   "source": [
    "struct MyMatrix{T, V<:AbstractVector{T}} <: AbstractMatrix{T}\n",
    "   v::V\n",
    "end"
   ]
  },
  {
   "cell_type": "code",
   "execution_count": 7,
   "metadata": {},
   "outputs": [],
   "source": [
    "Base.size(A::MyMatrix)         =   length(A.v), length(A.v)\n",
    "Base.getindex(A::MyMatrix,i,j) =   A.v[i]*(i==j)  + A.v[i]*A.v[j]\n"
   ]
  },
  {
   "cell_type": "code",
   "execution_count": 9,
   "metadata": {},
   "outputs": [
    {
     "data": {
      "text/plain": [
       "3×3 MyMatrix{Int64, Vector{Int64}}:\n",
       "   2    10    100\n",
       "  10   110   1000\n",
       " 100  1000  10100"
      ]
     },
     "execution_count": 9,
     "metadata": {},
     "output_type": "execute_result"
    }
   ],
   "source": [
    "A = MyMatrix([1,10,100])"
   ]
  },
  {
   "cell_type": "code",
   "execution_count": 10,
   "metadata": {},
   "outputs": [
    {
     "name": "stdout",
     "output_type": "stream",
     "text": [
      "MyMatrix{Int64, Vector{Int64}}\n",
      "  v: Array{Int64}((3,)) [1, 10, 100]\n"
     ]
    }
   ],
   "source": [
    "dump( A )  # n storage"
   ]
  },
  {
   "cell_type": "code",
   "execution_count": 11,
   "metadata": {},
   "outputs": [
    {
     "name": "stdout",
     "output_type": "stream",
     "text": [
      "Array{Int64}((3, 3)) [2 10 100; 10 110 1000; 100 1000 10100]\n"
     ]
    }
   ],
   "source": [
    "dump(Matrix(A)) # n² storage"
   ]
  },
  {
   "cell_type": "markdown",
   "metadata": {},
   "source": [
    "## My very own largest eigensolver for my very own matrices"
   ]
  },
  {
   "cell_type": "code",
   "execution_count": 12,
   "metadata": {},
   "outputs": [],
   "source": [
    "f(A::MyMatrix)  = λ ->  1 + mapreduce((v) -> v^2 / (v - λ)  , +, A.v)\n",
    "f′(A::MyMatrix) = λ ->      mapreduce((v) -> v^2 / (v - λ)^2, +, A.v)\n",
    "\n",
    "function LinearAlgebra.eigmax(A::MyMatrix; tol = eps(2.0), debug = false)\n",
    "    x0 = maximum(A.v) + maximum(A.v)^2\n",
    "    δ = f(A)(x0)/f′(A)(x0)\n",
    "    while abs(δ) > x0 * tol               \n",
    "        x0 -= δ\n",
    "        δ = f(A)(x0)/f′(A)(x0) \n",
    "        debug && println(\"x = $x0, δ = $δ\") # Debugging\n",
    "    end\n",
    "    x0\n",
    "end"
   ]
  },
  {
   "cell_type": "code",
   "execution_count": 49,
   "metadata": {},
   "outputs": [
    {
     "data": {
      "text/plain": [
       "10200.107083707298"
      ]
     },
     "execution_count": 49,
     "metadata": {},
     "output_type": "execute_result"
    }
   ],
   "source": [
    "eigmax(A)"
   ]
  },
  {
   "cell_type": "code",
   "execution_count": 50,
   "metadata": {},
   "outputs": [
    {
     "data": {
      "text/plain": [
       "10200.107083707298"
      ]
     },
     "execution_count": 50,
     "metadata": {},
     "output_type": "execute_result"
    }
   ],
   "source": [
    "eigmax(Matrix(A))"
   ]
  },
  {
   "cell_type": "markdown",
   "metadata": {},
   "source": [
    "## Go Heterogeneous"
   ]
  },
  {
   "cell_type": "code",
   "execution_count": 51,
   "metadata": {},
   "outputs": [
    {
     "data": {
      "text/plain": [
       "3×3 MyMatrix{Int64, CuArray{Int64, 1, CUDA.Mem.DeviceBuffer}}:\n",
       " 2  2   3\n",
       " 2  6   6\n",
       " 3  6  12"
      ]
     },
     "execution_count": 51,
     "metadata": {},
     "output_type": "execute_result"
    }
   ],
   "source": [
    "gpuA = MyMatrix(CuArray([1,2,3]))"
   ]
  },
  {
   "cell_type": "code",
   "execution_count": 52,
   "metadata": {},
   "outputs": [
    {
     "data": {
      "text/plain": [
       "3×3 MyMatrix{Int64, DArray{Int64, 1, Vector{Int64}}}:\n",
       " 2  2   3\n",
       " 2  6   6\n",
       " 3  6  12"
      ]
     },
     "execution_count": 52,
     "metadata": {},
     "output_type": "execute_result"
    }
   ],
   "source": [
    "distA = MyMatrix(distribute([1,2,3]))"
   ]
  },
  {
   "cell_type": "code",
   "execution_count": 53,
   "metadata": {},
   "outputs": [
    {
     "data": {
      "text/plain": [
       "3×3 Matrix{Int64}:\n",
       " 2  2   3\n",
       " 2  6   6\n",
       " 3  6  12"
      ]
     },
     "execution_count": 53,
     "metadata": {},
     "output_type": "execute_result"
    }
   ],
   "source": [
    "Matrix(gpuA)"
   ]
  },
  {
   "cell_type": "code",
   "execution_count": 54,
   "metadata": {},
   "outputs": [
    {
     "data": {
      "text/plain": [
       "3×3 Matrix{Int64}:\n",
       " 2  2   3\n",
       " 2  6   6\n",
       " 3  6  12"
      ]
     },
     "execution_count": 54,
     "metadata": {},
     "output_type": "execute_result"
    }
   ],
   "source": [
    "Matrix(distA)"
   ]
  },
  {
   "cell_type": "markdown",
   "metadata": {},
   "source": [
    "# Compare Timings"
   ]
  },
  {
   "cell_type": "code",
   "execution_count": 55,
   "metadata": {},
   "outputs": [
    {
     "data": {
      "text/plain": [
       "4000000"
      ]
     },
     "execution_count": 55,
     "metadata": {},
     "output_type": "execute_result"
    }
   ],
   "source": [
    "N = 4_000_000"
   ]
  },
  {
   "cell_type": "code",
   "execution_count": 56,
   "metadata": {},
   "outputs": [
    {
     "data": {
      "text/plain": [
       "4000000-element Vector{Float64}:\n",
       " -0.16536603494134755\n",
       " -0.07095962323033238\n",
       "  0.12860333463483845\n",
       "  0.14645992984415482\n",
       "  0.003357984162188212\n",
       " -0.07794335472007871\n",
       " -0.0015897862022342321\n",
       " -0.22725692828409097\n",
       " -0.21499830517389948\n",
       "  0.1969989648104354\n",
       " -0.10064963054540912\n",
       " -0.03529032333885001\n",
       "  0.037051935786844646\n",
       "  ⋮\n",
       " -0.0976572985356512\n",
       " -0.0992330253327055\n",
       " -0.15163223376823298\n",
       "  0.06491759158167733\n",
       "  0.008797853688982669\n",
       " -0.08533607640600725\n",
       "  0.004162485870364173\n",
       " -0.03289848558285172\n",
       " -0.0463076627186261\n",
       "  0.14925475786646789\n",
       "  0.19839469518880876\n",
       " -0.02305413448067844"
      ]
     },
     "execution_count": 56,
     "metadata": {},
     "output_type": "execute_result"
    }
   ],
   "source": [
    "v = randn(N)*.1"
   ]
  },
  {
   "cell_type": "code",
   "execution_count": 57,
   "metadata": {},
   "outputs": [
    {
     "name": "stdout",
     "output_type": "stream",
     "text": [
      "MyMatrix{Int64, Vector{Int64}}\n",
      "  v: Array{Int64}((3,)) [1, 10, 100]\n"
     ]
    }
   ],
   "source": [
    "dump(A)"
   ]
  },
  {
   "cell_type": "code",
   "execution_count": 58,
   "metadata": {},
   "outputs": [
    {
     "data": {
      "text/plain": [
       "4000000×4000000 MyMatrix{Float64, Vector{Float64}}:\n",
       " -0.13802       0.0117343    -0.0212666    …  -0.0328077     0.00381237\n",
       "  0.0117343    -0.0659244    -0.00912564      -0.014078      0.00163591\n",
       " -0.0212666    -0.00912564    0.145142         0.0255142    -0.00296484\n",
       " -0.0242195    -0.0103927     0.0188352        0.0290569    -0.00337651\n",
       " -0.000555297  -0.000238281   0.000431848      0.000666206  -7.74154e-5\n",
       "  0.0128892     0.00553083   -0.0100238    …  -0.0154635     0.00179692\n",
       "  0.000262897   0.000112811  -0.000204452     -0.000315405   3.66511e-5\n",
       "  0.0375806     0.0161261    -0.029226        -0.0450866     0.00523921\n",
       "  0.0355534     0.0152562    -0.0276495       -0.0426545     0.0049566\n",
       " -0.0325769    -0.013979      0.0253347        0.0390835    -0.00454164\n",
       "  0.016644      0.00714206   -0.0129439    …  -0.0199684     0.00232039\n",
       "  0.00583582    0.00250419   -0.00453845      -0.00700141    0.000813588\n",
       " -0.00612713   -0.00262919    0.004765         0.00735091   -0.0008542\n",
       "  ⋮                                        ⋱                \n",
       "  0.0161492     0.00692973   -0.0125591       -0.0193747     0.0022514\n",
       "  0.0164098     0.00704154   -0.0127617       -0.0196873     0.00228773\n",
       "  0.0250748     0.0107598    -0.0195004    …  -0.030083      0.00349575\n",
       " -0.0107352    -0.00460653    0.00834862       0.0128793    -0.00149662\n",
       " -0.00145487   -0.000624292   0.00113143       0.00174545   -0.000202827\n",
       "  0.0141117     0.00605542   -0.0109745       -0.0169302     0.00196735\n",
       " -0.000688334  -0.000295368   0.00053531       0.000825815  -9.59625e-5\n",
       "  0.00544029    0.00233446   -0.00423085   …  -0.00652689    0.000758446\n",
       "  0.00765771    0.00328597   -0.00595532      -0.00918719    0.00106758\n",
       " -0.0246817    -0.0105911     0.0191947        0.0296114    -0.00344094\n",
       " -0.0328077    -0.014078      0.0255142        0.237755     -0.00457382\n",
       "  0.00381237    0.00163591   -0.00296484      -0.00457382   -0.0225226"
      ]
     },
     "execution_count": 58,
     "metadata": {},
     "output_type": "execute_result"
    }
   ],
   "source": [
    "A = MyMatrix(v)"
   ]
  },
  {
   "cell_type": "code",
   "execution_count": 59,
   "metadata": {},
   "outputs": [
    {
     "ename": "LoadError",
     "evalue": "LoadError: UndefVarError: `@folded_threads` not defined\nin expression starting at In[59]:1",
     "output_type": "error",
     "traceback": [
      "LoadError: UndefVarError: `@folded_threads` not defined\nin expression starting at In[59]:1",
      ""
     ]
    }
   ],
   "source": [
    "@folded_threads eigmax(A) # using a macro\n",
    "\n",
    "folded_context(true)  # context variable\n",
    "eigmax(A)\n",
    "\n",
    "eigmax( Threaded(A) ) # similar to CuArray and distribute (using the type mechanism to figure out to execute)"
   ]
  },
  {
   "cell_type": "code",
   "execution_count": 60,
   "metadata": {},
   "outputs": [],
   "source": [
    "distA = MyMatrix(distribute(v));  "
   ]
  },
  {
   "cell_type": "code",
   "execution_count": 61,
   "metadata": {},
   "outputs": [],
   "source": [
    "gpuA = MyMatrix(CuArray(v));"
   ]
  },
  {
   "cell_type": "code",
   "execution_count": 62,
   "metadata": {},
   "outputs": [
    {
     "data": {
      "text/plain": [
       "2"
      ]
     },
     "execution_count": 62,
     "metadata": {},
     "output_type": "execute_result"
    }
   ],
   "source": [
    "1+1"
   ]
  },
  {
   "cell_type": "code",
   "execution_count": 64,
   "metadata": {},
   "outputs": [
    {
     "name": "stdout",
     "output_type": "stream",
     "text": [
      "  0.124375 seconds (15.55 k CPU allocations: 640.469 KiB)\n"
     ]
    },
    {
     "data": {
      "text/plain": [
       "39991.27661418578"
      ]
     },
     "execution_count": 64,
     "metadata": {},
     "output_type": "execute_result"
    }
   ],
   "source": [
    "@time eigmax(distA) # run twice"
   ]
  },
  {
   "cell_type": "code",
   "execution_count": 66,
   "metadata": {},
   "outputs": [
    {
     "data": {
      "text/plain": [
       "(value = 39991.2766141858, time = 0.193219635, cpu_bytes = 261712, cpu_gctime = 0.0, cpu_gcstats = Base.GC_Diff(261712, 0, 0, 4530, 0, 0, 0, 0, 0), gpu_bytes = 1920, gpu_memtime = 0.001664655999999997, gpu_memstats = (alloc_count = 96, alloc_bytes = 1920, free_count = 0, free_bytes = 0, total_time = 0.001664655999999997))"
      ]
     },
     "execution_count": 66,
     "metadata": {},
     "output_type": "execute_result"
    }
   ],
   "source": [
    "CUDA.@timed(eigmax(gpuA)) # run twice"
   ]
  },
  {
   "cell_type": "code",
   "execution_count": 67,
   "metadata": {},
   "outputs": [
    {
     "name": "stdout",
     "output_type": "stream",
     "text": [
      "  0.191692 seconds (4.52 k CPU allocations: 255.438 KiB) (96 GPU allocations: 1.875 KiB, 0.63% memmgmt time)\n"
     ]
    },
    {
     "data": {
      "text/plain": [
       "39991.2766141858"
      ]
     },
     "execution_count": 67,
     "metadata": {},
     "output_type": "execute_result"
    }
   ],
   "source": [
    "@time eigmax(gpuA)"
   ]
  },
  {
   "cell_type": "markdown",
   "metadata": {},
   "source": [
    "## Abstraction\n",
    "\n",
    "1. A data structure is a mathematical matrix! <br>\n",
    "2. A matrix can be serial, distributed, gpu <br>\n",
    "BOTH ARE ABSTRACTIONS, BOTH use underlying similar mechanisms"
   ]
  },
  {
   "cell_type": "markdown",
   "metadata": {},
   "source": [
    "## Why Julia?"
   ]
  },
  {
   "cell_type": "markdown",
   "metadata": {},
   "source": [
    "1. Well designed abstractions <br>\n",
    "2. Multiple dispatch <br>\n",
    "3. Careful balance between static and dynamic <br>\n",
    "4. Compiles to GPU at multiple levels, not just lowest CUDA level <br>\n",
    "5. Metaprogramming across the stack <br>\n",
    "6. Interfaces with LLVM <br>\n",
    "7. Plays nicely with Python, legacy codes, ... <br>"
   ]
  },
  {
   "cell_type": "markdown",
   "metadata": {},
   "source": [
    "<center> <a href=\"https://arxiv.org/abs/1411.1607\">\n",
    "Julia: A Fresh Approach to Numerical Computing \n",
    "</a> </center>"
   ]
  },
  {
   "cell_type": "markdown",
   "metadata": {},
   "source": [
    " <center> <img src=\"siam.png\" width=400> </a> </center>"
   ]
  },
  {
   "cell_type": "code",
   "execution_count": null,
   "metadata": {},
   "outputs": [],
   "source": []
  }
 ],
 "metadata": {
  "@webio": {
   "lastCommId": null,
   "lastKernelId": null
  },
  "kernelspec": {
   "display_name": "Julia 1.9.0",
   "language": "julia",
   "name": "julia-1.9"
  },
  "language_info": {
   "file_extension": ".jl",
   "mimetype": "application/julia",
   "name": "julia",
   "version": "1.9.0"
  },
  "latex_envs": {
   "LaTeX_envs_menu_present": true,
   "autoclose": false,
   "autocomplete": true,
   "bibliofile": "biblio.bib",
   "cite_by": "apalike",
   "current_citInitial": 1,
   "eqLabelWithNumbers": true,
   "eqNumInitial": 1,
   "hotkeys": {
    "equation": "Ctrl-E",
    "itemize": "Ctrl-I"
   },
   "labels_anchors": false,
   "latex_user_defs": false,
   "report_style_numbering": false,
   "user_envs_cfg": false
  },
  "toc": {
   "base_numbering": 1,
   "nav_menu": {},
   "number_sections": true,
   "sideBar": true,
   "skip_h1_title": false,
   "title_cell": "Table of Contents",
   "title_sidebar": "Contents",
   "toc_cell": false,
   "toc_position": {},
   "toc_section_display": true,
   "toc_window_display": false
  },
  "varInspector": {
   "cols": {
    "lenName": 16,
    "lenType": 16,
    "lenVar": 40
   },
   "kernels_config": {
    "python": {
     "delete_cmd_postfix": "",
     "delete_cmd_prefix": "del ",
     "library": "var_list.py",
     "varRefreshCmd": "print(var_dic_list())"
    },
    "r": {
     "delete_cmd_postfix": ") ",
     "delete_cmd_prefix": "rm(",
     "library": "var_list.r",
     "varRefreshCmd": "cat(var_dic_list()) "
    }
   },
   "types_to_exclude": [
    "module",
    "function",
    "builtin_function_or_method",
    "instance",
    "_Feature"
   ],
   "window_display": false
  }
 },
 "nbformat": 4,
 "nbformat_minor": 4
}
